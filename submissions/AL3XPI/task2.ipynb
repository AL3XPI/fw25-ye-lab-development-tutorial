{
 "cells": [
  {
   "cell_type": "markdown",
   "id": "4a781b0c",
   "metadata": {},
   "source": [
    "### Task 2"
   ]
  },
  {
   "cell_type": "markdown",
   "id": "918bb5ac",
   "metadata": {},
   "source": [
    "TO-DO 8: Run all the cells below, ensuring the outputs are generated smoothly.\n",
    "\n",
    "- Note: you'll want to select your specific .venv for this repo as the \"interpreter\" of this notebook. \n",
    "- If it doesn't appear in the select interpreters menu, you will want to enter the interpreter path, which will be the path from before, this time ending in `'ye-lab/python-github-intro/fw25-yelab-development-tutorial/.venv/bin/python'`."
   ]
  },
  {
   "cell_type": "code",
   "execution_count": null,
   "id": "4a655c1d",
   "metadata": {},
   "outputs": [],
   "source": [
    "# Imports and setup\n",
    "\n",
    "%load_ext autoreload\n",
    "%autoreload 2\n",
    "%reload_ext autoreload\n",
    "\n",
    "from pathlib import Path\n",
    "import matplotlib.pyplot as plt\n",
    "from task2 import load_data, count_by_species, average_weight_by_species, heaviest_n\n",
    "\n",
    "print(\"CWD:\", Path.cwd())  # sanity check\n",
    "\n",
    "# notebook is in: repo/submissions/<username>/\n",
    "# repo root is two levels up from there\n",
    "DATA_PATH = Path.cwd().resolve().parents[1] / \"data\" / \"animals.csv\"\n",
    "print(\"DATA_PATH:\", DATA_PATH, \"exists?\", DATA_PATH.exists())"
   ]
  },
  {
   "cell_type": "code",
   "execution_count": null,
   "id": "bcb06d7f",
   "metadata": {},
   "outputs": [],
   "source": [
    "# Load and Inspect\n",
    "df = load_data(str(DATA_PATH))\n",
    "df.head()"
   ]
  },
  {
   "cell_type": "code",
   "execution_count": null,
   "id": "4c32fb8b",
   "metadata": {},
   "outputs": [],
   "source": [
    "df.info()"
   ]
  },
  {
   "cell_type": "code",
   "execution_count": null,
   "id": "18e61342",
   "metadata": {},
   "outputs": [],
   "source": [
    "# Counts\n",
    "counts = count_by_species(df)\n",
    "counts"
   ]
  },
  {
   "cell_type": "code",
   "execution_count": null,
   "id": "456dce5d",
   "metadata": {},
   "outputs": [],
   "source": [
    "# Averages and plot\n",
    "avgs = average_weight_by_species(df)\n",
    "avgs"
   ]
  },
  {
   "cell_type": "code",
   "execution_count": null,
   "id": "a22b38d7",
   "metadata": {},
   "outputs": [],
   "source": [
    "plt.figure()\n",
    "avgs.plot(kind=\"bar\", title=\"Average Weight (kg) by Species\")\n",
    "plt.xlabel(\"Species\")\n",
    "plt.ylabel(\"Average weight(kg)\")\n",
    "plt.show()"
   ]
  },
  {
   "cell_type": "code",
   "execution_count": null,
   "id": "bfcc4c18",
   "metadata": {},
   "outputs": [],
   "source": [
    "# Heaviest\n",
    "heaviest_n(df, 3)"
   ]
  }
 ],
 "metadata": {
  "kernelspec": {
   "display_name": "Python 3",
   "language": "python",
   "name": "python3"
  },
  "language_info": {
   "codemirror_mode": {
    "name": "ipython",
    "version": 3
   },
   "file_extension": ".py",
   "mimetype": "text/x-python",
   "name": "python",
   "nbconvert_exporter": "python",
   "pygments_lexer": "ipython3",
   "version": "3.10.11"
  }
 },
 "nbformat": 4,
 "nbformat_minor": 5
}
